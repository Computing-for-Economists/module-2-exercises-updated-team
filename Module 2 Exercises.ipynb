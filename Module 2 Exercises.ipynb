{
  "cells": [
    {
      "cell_type": "markdown",
      "metadata": {
        "id": "xxmTcd0PMWSq"
      },
      "source": [
        "# Computing for Economists: Data Wrangling\n",
        "\n",
        "\n",
        "\n"
      ]
    },
    {
      "cell_type": "markdown",
      "metadata": {
        "id": "4uMDHcycMWSq"
      },
      "source": [
        "In this module, we will have you work through the following datasets to analyze social connectedness in Europe. This module is inspired by [Bailey et al. (2020)](https://pages.stern.nyu.edu/~jstroebe/PDF/BJRKSS_EuroSCI.pdf)."
      ]
    },
    {
      "cell_type": "code",
      "execution_count": 2,
      "metadata": {
        "colab": {
          "base_uri": "https://localhost:8080/"
        },
        "id": "diTnxO5eMWSq",
        "outputId": "35d311db-5988-4f8d-c4ee-c6dff03f1d30"
      },
      "outputs": [],
      "source": [
        "### Import Modules\n",
        "import numpy as np\n",
        "import pandas as pd\n",
        "import geopandas as gpd\n",
        "import matplotlib.pyplot as plt\n",
        "import seaborn as sns\n",
        "import itertools"
      ]
    },
    {
      "cell_type": "markdown",
      "metadata": {
        "id": "Rf-sRXqHMWSr"
      },
      "source": [
        "## Tidying the Data\n",
        "\n",
        "1. The `data` folder contains data from the following sources. Read each of the data files into Python as Pandas DataFrames.\n",
        "  - https://ec.europa.eu/eurostat/en/web/products-datasets/-/EDAT_LFSE_04 \n",
        "    - This data contains the percent of population by educational attainment level, sex, and NUTS 2 regions in the European Union.\n",
        "  - https://ec.europa.eu/eurostat/web/products-datasets/-/nama_10r_2hhinc\n",
        "    - The data contains the income of households by NUTS 2 region.  \n",
        "  - https://ec.europa.eu/eurostat/web/products-datasets/product?code=demo_r_pjanaggr3\n",
        "    - Population by age, group, sex, and NUTS 2 region.\n",
        "  - https://ec.europa.eu/eurostat/web/gisco/geodata/reference-data/administrative-units-statistical-units/nuts\n",
        "    - NUTS region shapefiles (use the geopandas library to read it as a GeoDataFrame).\n",
        "  - https://media.githubusercontent.com/media/social-connectedness-index/euro_sci/master/_intermediate_data/geo_distance_dat.csv\n",
        "    - Distance between pairs of NUTS 2 regions constructed by [Bailey et al. (2020)](https://pages.stern.nyu.edu/~jstroebe/PDF/BJRKSS_EuroSCI.pdf).\n",
        "  - `gadm1_nuts2-gadm1_nuts2-fb-social-connectedness-index-october-2021.tsv` from https://data.humdata.org/dataset/social-connectedness-index\n",
        "    - This file contains the social connectedness index between NUTS 2 regions and all Global Administrative Areas (GADM). We will only consider NUTS 2 to NUTS 2 connections. Social connectedness is a snapshot of Facebook links as of July 2019.\n",
        "    - Note: this file is very large so we recommend reading the file directly into the notebook at the following link: https://data.humdata.org/dataset/e9988552-74e4-4ff4-943f-c782ac8bca87/resource/5de92e01-606e-4e4d-ad7c-4a3d493a0cc3/download/gadm1_nuts2-gadm1_nuts2-fb-social-connectedness-index-october-2021.tsv\n"
      ]
    },
    {
      "cell_type": "code",
      "execution_count": 137,
      "metadata": {
        "colab": {
          "base_uri": "https://localhost:8080/",
          "height": 400
        },
        "id": "9HYlkboyMWSr",
        "outputId": "b4974597-71b2-4f90-ebfd-62b4488260e3"
      },
      "outputs": [],
      "source": [
        "path_education = \"data/estat_edat_lfse_04.tsv\"\n",
        "path_income = \"data/estat_nama_10r_2hhinc.tsv\"\n",
        "path_population = \"data/estat_demo_r_pjanaggr3.tsv\"\n",
        "path_nuts_shapefile = \"https://data.humdata.org/dataset/e9988552-74e4-4ff4-943f-c782ac8bca87/resource/5de92e01-606e-4e4d-ad7c-4a3d493a0cc3/download/gadm1_nuts2-gadm1_nuts2-fb-social-connectedness-index-october-2021.tsv\"\n",
        "path_geo_distance = \"data/geo_distance_dat.csv\"\n",
        "path_sci = \"data/gadm1_nuts2-gadm1_nuts2-fb-social-connectedness-index-october-2021.tsv\"\n",
        "\n",
        "df_education = pd.read_csv(path_education, sep='\\t')\n",
        "inc_data = pd.read_csv(path_income, sep='\\t')\n",
        "pop_data = pd.read_csv(path_population, sep='\\t')\n",
        "#df_shapefile = pd.read_csv(path_nuts_shapefile, sep='\\t')\n",
        "df_distance_nuts2 = pd.read_csv(path_sci, sep='\\t')\n"
      ]
    },
    {
      "cell_type": "markdown",
      "metadata": {
        "id": "O76Qx6NQMWSr"
      },
      "source": [
        "\n",
        "2. Clean the education data (`estat_edat_lfse_04.tsv`) and put it into \"tidy\" format. Check that there is a unique non-missing key for each row. The resulting data should have five columns and 299,088 rows."
      ]
    },
    {
      "cell_type": "code",
      "execution_count": 138,
      "metadata": {
        "colab": {
          "base_uri": "https://localhost:8080/"
        },
        "id": "jO-1xH2tMWSr",
        "outputId": "43dafc4c-ab26-4ee7-e14a-2ad44d1d7922"
      },
      "outputs": [
        {
          "name": "stderr",
          "output_type": "stream",
          "text": [
            "/var/folders/y8/xj185dtn4kgd924j3qb2gv240000gn/T/ipykernel_94240/1547174369.py:5: FutureWarning: A value is trying to be set on a copy of a DataFrame or Series through chained assignment using an inplace method.\n",
            "The behavior will change in pandas 3.0. This inplace method will never work because the intermediate object on which we are setting values always behaves as a copy.\n",
            "\n",
            "For example, when doing 'df[col].method(value, inplace=True)', try using 'df.method({col: value}, inplace=True)' or df[col] = df[col].method(value) instead, to perform the operation inplace on the original object.\n",
            "\n",
            "\n",
            "  df_education_clean['age'].replace('Y', '', regex=True, inplace=True)\n"
          ]
        },
        {
          "data": {
            "text/html": [
              "<div>\n",
              "<style scoped>\n",
              "    .dataframe tbody tr th:only-of-type {\n",
              "        vertical-align: middle;\n",
              "    }\n",
              "\n",
              "    .dataframe tbody tr th {\n",
              "        vertical-align: top;\n",
              "    }\n",
              "\n",
              "    .dataframe thead th {\n",
              "        text-align: right;\n",
              "    }\n",
              "</style>\n",
              "<table border=\"1\" class=\"dataframe\">\n",
              "  <thead>\n",
              "    <tr style=\"text-align: right;\">\n",
              "      <th></th>\n",
              "      <th>isced11</th>\n",
              "      <th>age</th>\n",
              "      <th>geo</th>\n",
              "      <th>year</th>\n",
              "      <th>Value</th>\n",
              "    </tr>\n",
              "  </thead>\n",
              "  <tbody>\n",
              "    <tr>\n",
              "      <th>24924</th>\n",
              "      <td>ED0-2</td>\n",
              "      <td>20-24</td>\n",
              "      <td>AT</td>\n",
              "      <td>2000</td>\n",
              "      <td>14.9</td>\n",
              "    </tr>\n",
              "    <tr>\n",
              "      <th>24925</th>\n",
              "      <td>ED0-2</td>\n",
              "      <td>20-24</td>\n",
              "      <td>AT1</td>\n",
              "      <td>2000</td>\n",
              "      <td>15.3</td>\n",
              "    </tr>\n",
              "    <tr>\n",
              "      <th>24926</th>\n",
              "      <td>ED0-2</td>\n",
              "      <td>20-24</td>\n",
              "      <td>AT11</td>\n",
              "      <td>2000</td>\n",
              "      <td>NaN</td>\n",
              "    </tr>\n",
              "    <tr>\n",
              "      <th>24927</th>\n",
              "      <td>ED0-2</td>\n",
              "      <td>20-24</td>\n",
              "      <td>AT12</td>\n",
              "      <td>2000</td>\n",
              "      <td>14.8</td>\n",
              "    </tr>\n",
              "    <tr>\n",
              "      <th>24928</th>\n",
              "      <td>ED0-2</td>\n",
              "      <td>20-24</td>\n",
              "      <td>AT13</td>\n",
              "      <td>2000</td>\n",
              "      <td>15.8</td>\n",
              "    </tr>\n",
              "    <tr>\n",
              "      <th>...</th>\n",
              "      <td>...</td>\n",
              "      <td>...</td>\n",
              "      <td>...</td>\n",
              "      <td>...</td>\n",
              "      <td>...</td>\n",
              "    </tr>\n",
              "    <tr>\n",
              "      <th>897259</th>\n",
              "      <td>ED5-8</td>\n",
              "      <td>30-34</td>\n",
              "      <td>UKM7</td>\n",
              "      <td>2023</td>\n",
              "      <td>NaN</td>\n",
              "    </tr>\n",
              "    <tr>\n",
              "      <th>897260</th>\n",
              "      <td>ED5-8</td>\n",
              "      <td>30-34</td>\n",
              "      <td>UKM8</td>\n",
              "      <td>2023</td>\n",
              "      <td>NaN</td>\n",
              "    </tr>\n",
              "    <tr>\n",
              "      <th>897261</th>\n",
              "      <td>ED5-8</td>\n",
              "      <td>30-34</td>\n",
              "      <td>UKM9</td>\n",
              "      <td>2023</td>\n",
              "      <td>NaN</td>\n",
              "    </tr>\n",
              "    <tr>\n",
              "      <th>897262</th>\n",
              "      <td>ED5-8</td>\n",
              "      <td>30-34</td>\n",
              "      <td>UKN</td>\n",
              "      <td>2023</td>\n",
              "      <td>NaN</td>\n",
              "    </tr>\n",
              "    <tr>\n",
              "      <th>897263</th>\n",
              "      <td>ED5-8</td>\n",
              "      <td>30-34</td>\n",
              "      <td>UKN0</td>\n",
              "      <td>2023</td>\n",
              "      <td>NaN</td>\n",
              "    </tr>\n",
              "  </tbody>\n",
              "</table>\n",
              "<p>299088 rows × 5 columns</p>\n",
              "</div>"
            ],
            "text/plain": [
              "       isced11    age   geo  year  Value\n",
              "24924    ED0-2  20-24    AT  2000   14.9\n",
              "24925    ED0-2  20-24   AT1  2000   15.3\n",
              "24926    ED0-2  20-24  AT11  2000    NaN\n",
              "24927    ED0-2  20-24  AT12  2000   14.8\n",
              "24928    ED0-2  20-24  AT13  2000   15.8\n",
              "...        ...    ...   ...   ...    ...\n",
              "897259   ED5-8  30-34  UKM7  2023    NaN\n",
              "897260   ED5-8  30-34  UKM8  2023    NaN\n",
              "897261   ED5-8  30-34  UKM9  2023    NaN\n",
              "897262   ED5-8  30-34   UKN  2023    NaN\n",
              "897263   ED5-8  30-34  UKN0  2023    NaN\n",
              "\n",
              "[299088 rows x 5 columns]"
            ]
          },
          "execution_count": 138,
          "metadata": {},
          "output_type": "execute_result"
        }
      ],
      "source": [
        "df_education[['freq', 'sex', 'isced11', 'age', 'unit', 'geo']] = df_education['freq,sex,isced11,age,unit,geo\\\\TIME_PERIOD'].str.split(',', expand=True)\n",
        "df_education.drop(columns=['freq,sex,isced11,age,unit,geo\\\\TIME_PERIOD'], inplace=True)\n",
        "\n",
        "df_education_clean = pd.melt(df_education, id_vars=['freq', 'sex', 'isced11', 'age', 'unit', 'geo'], var_name='year', value_name='Value')\n",
        "df_education_clean['age'].replace('Y', '', regex=True, inplace=True)\n",
        "df_education_clean['Value'] = pd.to_numeric(df_education_clean['Value'].str.extract(r'(\\d+\\.\\d+|\\d+)')[0], errors='coerce')\n",
        "df_education_clean['year'] = df_education_clean['year'].astype(int)\n",
        "df_education_clean.drop_duplicates(inplace=True)\n",
        "\n",
        "df_education_clean = df_education_clean[df_education_clean['sex']=='T']\n",
        "df_education_clean = df_education_clean[['isced11', 'age', 'geo', 'year', 'Value']]\n",
        "df_education_clean\n"
      ]
    },
    {
      "cell_type": "markdown",
      "metadata": {
        "id": "GmUibPXdMWSs"
      },
      "source": [
        "3. Do the same for the income data (`estat_nama_10r_2hhinc.tsv`) and the population data (`estat_demo_r_pjanaggr3.tsv`)."
      ]
    },
    {
      "cell_type": "code",
      "execution_count": 139,
      "metadata": {
        "colab": {
          "base_uri": "https://localhost:8080/"
        },
        "id": "LgHhM_wYMWSs",
        "outputId": "b41deead-015c-4bf5-a00f-96bc35372dd1"
      },
      "outputs": [
        {
          "name": "stderr",
          "output_type": "stream",
          "text": [
            "<>:1: SyntaxWarning: invalid escape sequence '\\T'\n",
            "<>:5: SyntaxWarning: invalid escape sequence '\\T'\n",
            "<>:16: SyntaxWarning: invalid escape sequence '\\T'\n",
            "<>:20: SyntaxWarning: invalid escape sequence '\\T'\n",
            "<>:1: SyntaxWarning: invalid escape sequence '\\T'\n",
            "<>:5: SyntaxWarning: invalid escape sequence '\\T'\n",
            "<>:16: SyntaxWarning: invalid escape sequence '\\T'\n",
            "<>:20: SyntaxWarning: invalid escape sequence '\\T'\n",
            "/var/folders/y8/xj185dtn4kgd924j3qb2gv240000gn/T/ipykernel_94240/3670749831.py:1: SyntaxWarning: invalid escape sequence '\\T'\n",
            "  inc_data[['freq', 'unit', 'direct', 'na_item', 'geo']] = inc_data['freq,unit,direct,na_item,geo\\TIME_PERIOD'].str.split(',', expand=True)\n",
            "/var/folders/y8/xj185dtn4kgd924j3qb2gv240000gn/T/ipykernel_94240/3670749831.py:5: SyntaxWarning: invalid escape sequence '\\T'\n",
            "  .drop(columns=[\"freq\", \"freq,unit,direct,na_item,geo\\TIME_PERIOD\"])\n",
            "/var/folders/y8/xj185dtn4kgd924j3qb2gv240000gn/T/ipykernel_94240/3670749831.py:16: SyntaxWarning: invalid escape sequence '\\T'\n",
            "  pop_data[['freq', 'unit', 'sex', 'age', 'geo']] = pop_data['freq,unit,sex,age,geo\\TIME_PERIOD'].str.split(',', expand=True)\n",
            "/var/folders/y8/xj185dtn4kgd924j3qb2gv240000gn/T/ipykernel_94240/3670749831.py:20: SyntaxWarning: invalid escape sequence '\\T'\n",
            "  .drop(columns=[\"freq\", \"freq,unit,sex,age,geo\\TIME_PERIOD\"])\n"
          ]
        },
        {
          "data": {
            "text/html": [
              "<div>\n",
              "<style scoped>\n",
              "    .dataframe tbody tr th:only-of-type {\n",
              "        vertical-align: middle;\n",
              "    }\n",
              "\n",
              "    .dataframe tbody tr th {\n",
              "        vertical-align: top;\n",
              "    }\n",
              "\n",
              "    .dataframe thead th {\n",
              "        text-align: right;\n",
              "    }\n",
              "</style>\n",
              "<table border=\"1\" class=\"dataframe\">\n",
              "  <thead>\n",
              "    <tr style=\"text-align: right;\">\n",
              "      <th></th>\n",
              "      <th>unit</th>\n",
              "      <th>sex</th>\n",
              "      <th>age</th>\n",
              "      <th>geo</th>\n",
              "      <th>year</th>\n",
              "      <th>pop</th>\n",
              "    </tr>\n",
              "  </thead>\n",
              "  <tbody>\n",
              "    <tr>\n",
              "      <th>0</th>\n",
              "      <td>NR</td>\n",
              "      <td>F</td>\n",
              "      <td>TOTAL</td>\n",
              "      <td>AL</td>\n",
              "      <td>1990</td>\n",
              "      <td>NaN</td>\n",
              "    </tr>\n",
              "    <tr>\n",
              "      <th>1</th>\n",
              "      <td>NR</td>\n",
              "      <td>F</td>\n",
              "      <td>TOTAL</td>\n",
              "      <td>AL0</td>\n",
              "      <td>1990</td>\n",
              "      <td>NaN</td>\n",
              "    </tr>\n",
              "    <tr>\n",
              "      <th>2</th>\n",
              "      <td>NR</td>\n",
              "      <td>F</td>\n",
              "      <td>TOTAL</td>\n",
              "      <td>AL01</td>\n",
              "      <td>1990</td>\n",
              "      <td>NaN</td>\n",
              "    </tr>\n",
              "    <tr>\n",
              "      <th>3</th>\n",
              "      <td>NR</td>\n",
              "      <td>F</td>\n",
              "      <td>TOTAL</td>\n",
              "      <td>AL011</td>\n",
              "      <td>1990</td>\n",
              "      <td>NaN</td>\n",
              "    </tr>\n",
              "    <tr>\n",
              "      <th>4</th>\n",
              "      <td>NR</td>\n",
              "      <td>F</td>\n",
              "      <td>TOTAL</td>\n",
              "      <td>AL012</td>\n",
              "      <td>1990</td>\n",
              "      <td>NaN</td>\n",
              "    </tr>\n",
              "    <tr>\n",
              "      <th>...</th>\n",
              "      <td>...</td>\n",
              "      <td>...</td>\n",
              "      <td>...</td>\n",
              "      <td>...</td>\n",
              "      <td>...</td>\n",
              "      <td>...</td>\n",
              "    </tr>\n",
              "    <tr>\n",
              "      <th>1061815</th>\n",
              "      <td>NR</td>\n",
              "      <td>T</td>\n",
              "      <td>Y_LT15</td>\n",
              "      <td>UKN12</td>\n",
              "      <td>2023</td>\n",
              "      <td>NaN</td>\n",
              "    </tr>\n",
              "    <tr>\n",
              "      <th>1061816</th>\n",
              "      <td>NR</td>\n",
              "      <td>T</td>\n",
              "      <td>Y_LT15</td>\n",
              "      <td>UKN13</td>\n",
              "      <td>2023</td>\n",
              "      <td>NaN</td>\n",
              "    </tr>\n",
              "    <tr>\n",
              "      <th>1061817</th>\n",
              "      <td>NR</td>\n",
              "      <td>T</td>\n",
              "      <td>Y_LT15</td>\n",
              "      <td>UKN14</td>\n",
              "      <td>2023</td>\n",
              "      <td>NaN</td>\n",
              "    </tr>\n",
              "    <tr>\n",
              "      <th>1061818</th>\n",
              "      <td>NR</td>\n",
              "      <td>T</td>\n",
              "      <td>Y_LT15</td>\n",
              "      <td>UKN15</td>\n",
              "      <td>2023</td>\n",
              "      <td>NaN</td>\n",
              "    </tr>\n",
              "    <tr>\n",
              "      <th>1061819</th>\n",
              "      <td>NR</td>\n",
              "      <td>T</td>\n",
              "      <td>Y_LT15</td>\n",
              "      <td>UKN16</td>\n",
              "      <td>2023</td>\n",
              "      <td>NaN</td>\n",
              "    </tr>\n",
              "  </tbody>\n",
              "</table>\n",
              "<p>1061820 rows × 6 columns</p>\n",
              "</div>"
            ],
            "text/plain": [
              "        unit sex     age    geo  year  pop\n",
              "0         NR   F   TOTAL     AL  1990  NaN\n",
              "1         NR   F   TOTAL    AL0  1990  NaN\n",
              "2         NR   F   TOTAL   AL01  1990  NaN\n",
              "3         NR   F   TOTAL  AL011  1990  NaN\n",
              "4         NR   F   TOTAL  AL012  1990  NaN\n",
              "...      ...  ..     ...    ...   ...  ...\n",
              "1061815   NR   T  Y_LT15  UKN12  2023  NaN\n",
              "1061816   NR   T  Y_LT15  UKN13  2023  NaN\n",
              "1061817   NR   T  Y_LT15  UKN14  2023  NaN\n",
              "1061818   NR   T  Y_LT15  UKN15  2023  NaN\n",
              "1061819   NR   T  Y_LT15  UKN16  2023  NaN\n",
              "\n",
              "[1061820 rows x 6 columns]"
            ]
          },
          "execution_count": 139,
          "metadata": {},
          "output_type": "execute_result"
        }
      ],
      "source": [
        "\n",
        "inc_data[['freq', 'unit', 'direct', 'na_item', 'geo']] = inc_data['freq,unit,direct,na_item,geo\\TIME_PERIOD'].str.split(',', expand=True)\n",
        "\n",
        "inc_data = (\n",
        "    inc_data\n",
        "    .drop(columns=[\"freq\", \"freq,unit,direct,na_item,geo\\TIME_PERIOD\"])\n",
        "    .melt(id_vars=['unit', 'direct', 'na_item', 'geo'], value_name=\"value\", var_name=\"year\")\n",
        "    .assign(\n",
        "        value = lambda x: pd.to_numeric(x[\"value\"], errors=\"coerce\"),\n",
        "        year = lambda x: x[\"year\"].astype(int)\n",
        "    )\n",
        ")\n",
        "\n",
        "inc_data\n",
        "\n",
        "\n",
        "pop_data[['freq', 'unit', 'sex', 'age', 'geo']] = pop_data['freq,unit,sex,age,geo\\TIME_PERIOD'].str.split(',', expand=True)\n",
        "\n",
        "pop_data = (\n",
        "    pop_data\n",
        "    .drop(columns=[\"freq\", \"freq,unit,sex,age,geo\\TIME_PERIOD\"])\n",
        "    .melt(id_vars=['unit', 'sex', 'age', 'geo'], value_name=\"pop\", var_name=\"year\")\n",
        "    .assign(\n",
        "        pop = lambda x: pd.to_numeric(x[\"pop\"], errors=\"coerce\"),\n",
        "        year = lambda x: x[\"year\"].astype(int)\n",
        "    )\n",
        ")\n",
        "\n",
        "pop_data\n"
      ]
    },
    {
      "cell_type": "markdown",
      "metadata": {
        "id": "n8Tqm4m1MWSs"
      },
      "source": [
        "4. Outer join the percent of the population age 25 to 64 in a NUTS 2 region receiving a tertiary education with the income per capita in purchasing power standard (PPS). Then outer join the education and income data with population data for the total population (for sex and age). Only include data at the NUTS 2 level.\n",
        "\n",
        "  To obtain the income per capita in PPS, the national account should be the \"balance of primary incomes/national income, net\" and the direction of flow should be the \"balance\"."
      ]
    },
    {
      "cell_type": "code",
      "execution_count": 142,
      "metadata": {},
      "outputs": [
        {
          "data": {
            "text/html": [
              "<div>\n",
              "<style scoped>\n",
              "    .dataframe tbody tr th:only-of-type {\n",
              "        vertical-align: middle;\n",
              "    }\n",
              "\n",
              "    .dataframe tbody tr th {\n",
              "        vertical-align: top;\n",
              "    }\n",
              "\n",
              "    .dataframe thead th {\n",
              "        text-align: right;\n",
              "    }\n",
              "</style>\n",
              "<table border=\"1\" class=\"dataframe\">\n",
              "  <thead>\n",
              "    <tr style=\"text-align: right;\">\n",
              "      <th></th>\n",
              "      <th>isced11</th>\n",
              "      <th>age</th>\n",
              "      <th>geo</th>\n",
              "      <th>year</th>\n",
              "      <th>Value</th>\n",
              "      <th>unit</th>\n",
              "      <th>direct</th>\n",
              "      <th>na_item</th>\n",
              "      <th>value</th>\n",
              "    </tr>\n",
              "  </thead>\n",
              "  <tbody>\n",
              "    <tr>\n",
              "      <th>0</th>\n",
              "      <td>NaN</td>\n",
              "      <td>NaN</td>\n",
              "      <td>AT</td>\n",
              "      <td>1995</td>\n",
              "      <td>NaN</td>\n",
              "      <td>PPS_EU27_2020_HAB</td>\n",
              "      <td>BAL</td>\n",
              "      <td>B5N</td>\n",
              "      <td>NaN</td>\n",
              "    </tr>\n",
              "    <tr>\n",
              "      <th>1</th>\n",
              "      <td>NaN</td>\n",
              "      <td>NaN</td>\n",
              "      <td>AT</td>\n",
              "      <td>1995</td>\n",
              "      <td>NaN</td>\n",
              "      <td>PPS_EU27_2020_HAB</td>\n",
              "      <td>BAL</td>\n",
              "      <td>B6N</td>\n",
              "      <td>NaN</td>\n",
              "    </tr>\n",
              "    <tr>\n",
              "      <th>2</th>\n",
              "      <td>NaN</td>\n",
              "      <td>NaN</td>\n",
              "      <td>AT</td>\n",
              "      <td>1996</td>\n",
              "      <td>NaN</td>\n",
              "      <td>PPS_EU27_2020_HAB</td>\n",
              "      <td>BAL</td>\n",
              "      <td>B5N</td>\n",
              "      <td>NaN</td>\n",
              "    </tr>\n",
              "    <tr>\n",
              "      <th>3</th>\n",
              "      <td>NaN</td>\n",
              "      <td>NaN</td>\n",
              "      <td>AT</td>\n",
              "      <td>1996</td>\n",
              "      <td>NaN</td>\n",
              "      <td>PPS_EU27_2020_HAB</td>\n",
              "      <td>BAL</td>\n",
              "      <td>B6N</td>\n",
              "      <td>NaN</td>\n",
              "    </tr>\n",
              "    <tr>\n",
              "      <th>4</th>\n",
              "      <td>NaN</td>\n",
              "      <td>NaN</td>\n",
              "      <td>AT</td>\n",
              "      <td>1997</td>\n",
              "      <td>NaN</td>\n",
              "      <td>PPS_EU27_2020_HAB</td>\n",
              "      <td>BAL</td>\n",
              "      <td>B5N</td>\n",
              "      <td>NaN</td>\n",
              "    </tr>\n",
              "    <tr>\n",
              "      <th>...</th>\n",
              "      <td>...</td>\n",
              "      <td>...</td>\n",
              "      <td>...</td>\n",
              "      <td>...</td>\n",
              "      <td>...</td>\n",
              "      <td>...</td>\n",
              "      <td>...</td>\n",
              "      <td>...</td>\n",
              "      <td>...</td>\n",
              "    </tr>\n",
              "    <tr>\n",
              "      <th>26237</th>\n",
              "      <td>ED5-8</td>\n",
              "      <td>25-64</td>\n",
              "      <td>UKN0</td>\n",
              "      <td>2019</td>\n",
              "      <td>40.6</td>\n",
              "      <td>NaN</td>\n",
              "      <td>NaN</td>\n",
              "      <td>NaN</td>\n",
              "      <td>NaN</td>\n",
              "    </tr>\n",
              "    <tr>\n",
              "      <th>26238</th>\n",
              "      <td>ED5-8</td>\n",
              "      <td>25-64</td>\n",
              "      <td>UKN0</td>\n",
              "      <td>2020</td>\n",
              "      <td>NaN</td>\n",
              "      <td>NaN</td>\n",
              "      <td>NaN</td>\n",
              "      <td>NaN</td>\n",
              "      <td>NaN</td>\n",
              "    </tr>\n",
              "    <tr>\n",
              "      <th>26239</th>\n",
              "      <td>ED5-8</td>\n",
              "      <td>25-64</td>\n",
              "      <td>UKN0</td>\n",
              "      <td>2021</td>\n",
              "      <td>NaN</td>\n",
              "      <td>NaN</td>\n",
              "      <td>NaN</td>\n",
              "      <td>NaN</td>\n",
              "      <td>NaN</td>\n",
              "    </tr>\n",
              "    <tr>\n",
              "      <th>26240</th>\n",
              "      <td>ED5-8</td>\n",
              "      <td>25-64</td>\n",
              "      <td>UKN0</td>\n",
              "      <td>2022</td>\n",
              "      <td>NaN</td>\n",
              "      <td>NaN</td>\n",
              "      <td>NaN</td>\n",
              "      <td>NaN</td>\n",
              "      <td>NaN</td>\n",
              "    </tr>\n",
              "    <tr>\n",
              "      <th>26241</th>\n",
              "      <td>ED5-8</td>\n",
              "      <td>25-64</td>\n",
              "      <td>UKN0</td>\n",
              "      <td>2023</td>\n",
              "      <td>NaN</td>\n",
              "      <td>NaN</td>\n",
              "      <td>NaN</td>\n",
              "      <td>NaN</td>\n",
              "      <td>NaN</td>\n",
              "    </tr>\n",
              "  </tbody>\n",
              "</table>\n",
              "<p>26242 rows × 9 columns</p>\n",
              "</div>"
            ],
            "text/plain": [
              "      isced11    age   geo  year  Value               unit direct na_item  \\\n",
              "0         NaN    NaN    AT  1995    NaN  PPS_EU27_2020_HAB    BAL     B5N   \n",
              "1         NaN    NaN    AT  1995    NaN  PPS_EU27_2020_HAB    BAL     B6N   \n",
              "2         NaN    NaN    AT  1996    NaN  PPS_EU27_2020_HAB    BAL     B5N   \n",
              "3         NaN    NaN    AT  1996    NaN  PPS_EU27_2020_HAB    BAL     B6N   \n",
              "4         NaN    NaN    AT  1997    NaN  PPS_EU27_2020_HAB    BAL     B5N   \n",
              "...       ...    ...   ...   ...    ...                ...    ...     ...   \n",
              "26237   ED5-8  25-64  UKN0  2019   40.6                NaN    NaN     NaN   \n",
              "26238   ED5-8  25-64  UKN0  2020    NaN                NaN    NaN     NaN   \n",
              "26239   ED5-8  25-64  UKN0  2021    NaN                NaN    NaN     NaN   \n",
              "26240   ED5-8  25-64  UKN0  2022    NaN                NaN    NaN     NaN   \n",
              "26241   ED5-8  25-64  UKN0  2023    NaN                NaN    NaN     NaN   \n",
              "\n",
              "       value  \n",
              "0        NaN  \n",
              "1        NaN  \n",
              "2        NaN  \n",
              "3        NaN  \n",
              "4        NaN  \n",
              "...      ...  \n",
              "26237    NaN  \n",
              "26238    NaN  \n",
              "26239    NaN  \n",
              "26240    NaN  \n",
              "26241    NaN  \n",
              "\n",
              "[26242 rows x 9 columns]"
            ]
          },
          "execution_count": 142,
          "metadata": {},
          "output_type": "execute_result"
        }
      ],
      "source": [
        "df_education_tert_2564 = df_education_clean[df_education_clean['age'] == \"25-64\"] \n",
        "df_education_tert_2564 = df_education_tert_2564[df_education_tert_2564['isced11'] == \"ED5-8\"]\n",
        "\n",
        "inc_data_pps = inc_data[inc_data['unit'] == \"PPS_EU27_2020_HAB\"]\n",
        "join_1 = pd.merge(df_education_tert_2564, inc_data_pps, on=['geo', 'year'], how='outer')\n",
        "join_1\n"
      ]
    },
    {
      "cell_type": "markdown",
      "metadata": {
        "id": "uEvKBzrEMWSs"
      },
      "source": [
        "5. For each pair of NUTS 2 regions, obtain the absolute difference in the two variables constructed in problem 4 in 2019. Drop the French islands (starts with NUTS 2 region code \"FRY\").\n"
      ]
    },
    {
      "cell_type": "code",
      "execution_count": null,
      "metadata": {
        "colab": {
          "base_uri": "https://localhost:8080/",
          "height": 206
        },
        "id": "U-YNM89sMWSs",
        "outputId": "69c6dabc-09a7-48e1-b2c6-2a2f0aa2a672"
      },
      "outputs": [],
      "source": []
    },
    {
      "cell_type": "markdown",
      "metadata": {
        "id": "1Wli7tn0MWSs"
      },
      "source": [
        "6. Now we will merge the the 2019 data with the SCI data and the pairwise distance data. Create a dataframe with one row for each pair of NUTS 2 regions (as two separate columns) and the following variables:\n",
        "\n",
        "*   Log scaled SCI\n",
        "*   Log distance (add 1 to avoid zeros)\n",
        "*   Percent tertiary education for User and Friend NUTS 2\n",
        "*   Income per capita for User and Friend NUTS 2\n",
        "*   Population for User and Friend NUTS 2\n",
        "*   Absolute difference in tertiary education between User and Friend NUTS 2\n",
        "*   Absolute difference in income per capita between User and Friend NUTS 2\n",
        "\n",
        "  Note that the SCI data contains GADM areas, please only keep the NUTS 2 to NUTS 2 rows. Keeps all rows in the SCI data.\n"
      ]
    },
    {
      "cell_type": "code",
      "execution_count": null,
      "metadata": {},
      "outputs": [],
      "source": []
    },
    {
      "cell_type": "markdown",
      "metadata": {
        "id": "NKWIuCArMWSt"
      },
      "source": [
        "## Descriptive Statistics"
      ]
    },
    {
      "cell_type": "markdown",
      "metadata": {
        "id": "aNhlzFLSMWSu"
      },
      "source": [
        "\n",
        "1.   Each country is represented by the first two letters of the NUTS 2 index. Present a country-level population-weighted summary table for the percent people with tertiary education and income per capita in 2019. Include the mean, standard deviation, min, and max. Round all numeric outputs to two decimal places."
      ]
    },
    {
      "cell_type": "code",
      "execution_count": null,
      "metadata": {
        "colab": {
          "base_uri": "https://localhost:8080/",
          "height": 269
        },
        "id": "CTek628Fyll0",
        "outputId": "f90276e6-f694-4def-a50b-b47e862a8f20"
      },
      "outputs": [],
      "source": []
    },
    {
      "cell_type": "markdown",
      "metadata": {
        "id": "ovRerAJj50Vn"
      },
      "source": [
        "2. The SCI is scaled from 1 to 1,000,000 and measures the relative probability of a Facebook friendship link ([source](https://data.humdata.org/dataset/social-connectedness-index?)). If a number is two times higher, then a friendship link between two users from those NUTS 2 regions is twice as likely. Calculate  the mean, std, min, and max of log(scaled SCI) by country and merge it with the summary table from the previous part."
      ]
    },
    {
      "cell_type": "code",
      "execution_count": null,
      "metadata": {
        "colab": {
          "base_uri": "https://localhost:8080/",
          "height": 269
        },
        "id": "siMC7xs521kC",
        "outputId": "77aab399-f091-405c-fcfd-9cf3cc34e0dc"
      },
      "outputs": [],
      "source": []
    },
    {
      "cell_type": "markdown",
      "metadata": {
        "id": "jRZp8vI2yzYQ"
      },
      "source": [
        "3. Compute the correlation between log(scaled SCI), log(distance), user region education and income, as well as differences in education and income between NUTS 2 regions. Is it higher or lower than what you expected?"
      ]
    },
    {
      "cell_type": "code",
      "execution_count": null,
      "metadata": {
        "colab": {
          "base_uri": "https://localhost:8080/",
          "height": 238
        },
        "id": "2AdGb98BE1Yo",
        "outputId": "e29d044a-bf65-4bf7-f225-bfd273429127"
      },
      "outputs": [],
      "source": []
    },
    {
      "cell_type": "markdown",
      "metadata": {
        "id": "SXC8wfNGMWSv"
      },
      "source": [
        "## Data Visualization"
      ]
    },
    {
      "cell_type": "markdown",
      "metadata": {
        "id": "sYYnGL5GMWSv"
      },
      "source": [
        "1. We will ask you to plot two maps of social connections of (1) a country and (2) a NUTS 2 region to all other NUTS 2 regions. Remember the French islands should be dropped (these islands are far away from continental Europe and will therefore make the maps harder to visualize).\n",
        "\n",
        "  * For the chosen country, aggregate the SCI to produce country to NUTS 2 region measures. Scaled SCI can be aggregated correctly using population shares following [SCI documentation](https://data.humdata.org/dataset/social-connectedness-index). For countries $i, j$ with regions $\\{r_i\\}, \\{r_j\\}$, aggregate SCI is given by:\n",
        "\n",
        "  $$SCI_{i,j} = \\sum_{\\{r_i\\}}\\sum_{\\{r_j\\}} PopShare_{r_i} \\times PopShare_{r_j} \\times SCI_{r_i, r_j}$$\n",
        "\n",
        "  where $PopShare_{r_i}$ is the share of country $i$'s population in region $r_i$.\n",
        "\n",
        "  * Merge the aggregated SCI data with the GeoDataFrame (keep only NUTS 2 regions) for the applicable geographies.\n",
        "  * Construct the bins for the map legend by first selecting a baseline SCI cutoff (e.g. 20th percentile of the **total data** that you are working with). Then calculate the subsequent cutoffs as $2\\times$, $3\\times$, $5\\times$, $10\\times$, $25\\times$, $100\\times, 1000\\times$ that of the baseline cutoff. Feel free to use another legend system as long as there is justification.\n",
        "  * Map directly using the GeoPandas library, or feel free to explore interactive maps in Plotly.\n",
        "\n",
        "  Recall the principles of software engineering (consider writing a function for code that may be reused)."
      ]
    },
    {
      "cell_type": "code",
      "execution_count": null,
      "metadata": {
        "colab": {
          "base_uri": "https://localhost:8080/",
          "height": 206
        },
        "id": "Km8jsk1RkOpY",
        "outputId": "81a2f794-9f07-4b56-f764-1619cd8a3f6c"
      },
      "outputs": [],
      "source": []
    },
    {
      "cell_type": "markdown",
      "metadata": {
        "id": "5_HNgLCWu04X"
      },
      "source": [
        "2. Show the relationship between log SCI and log distance in a figure. Highlight the points of at least one user geography (country or NUTS 2). Fit a curve to the data and plot it along with the scatterplot."
      ]
    },
    {
      "cell_type": "code",
      "execution_count": null,
      "metadata": {
        "colab": {
          "base_uri": "https://localhost:8080/",
          "height": 472
        },
        "id": "XavdL98zmzR4",
        "outputId": "63b24951-529e-42a0-f27c-fa9a9f164e67"
      },
      "outputs": [],
      "source": []
    },
    {
      "cell_type": "markdown",
      "metadata": {
        "id": "qBObMHkKvRoG"
      },
      "source": [
        "3. Visualize the distributions of log SCI by income bin (e.g. low, medium, high) of the user region. Comment."
      ]
    },
    {
      "cell_type": "code",
      "execution_count": null,
      "metadata": {
        "colab": {
          "base_uri": "https://localhost:8080/",
          "height": 564
        },
        "id": "EbrKuC1IwoPW",
        "outputId": "b6d58629-0fed-4d3a-b0bf-1ec41f745276"
      },
      "outputs": [],
      "source": []
    },
    {
      "cell_type": "markdown",
      "metadata": {
        "id": "rP9aGapzLp_R"
      },
      "source": [
        "Bonus: Explore the data and feel free to visualize whatever you would like. Make sure you understand the variables and compute summary statistics."
      ]
    },
    {
      "cell_type": "code",
      "execution_count": null,
      "metadata": {},
      "outputs": [],
      "source": []
    },
    {
      "cell_type": "markdown",
      "metadata": {
        "id": "gCuM9ND8MWSv"
      },
      "source": [
        "# Submission ⭐\n",
        "\n",
        "Congratulations you finished Module 2! We will handle all exercise submissions on GitHub Classroom. Please push your changes to your team repository folder on GitHub Classroom."
      ]
    }
  ],
  "metadata": {
    "colab": {
      "provenance": []
    },
    "kernelspec": {
      "display_name": "Python 3",
      "name": "python3"
    },
    "language_info": {
      "codemirror_mode": {
        "name": "ipython",
        "version": 3
      },
      "file_extension": ".py",
      "mimetype": "text/x-python",
      "name": "python",
      "nbconvert_exporter": "python",
      "pygments_lexer": "ipython3",
      "version": "3.12.3"
    }
  },
  "nbformat": 4,
  "nbformat_minor": 0
}
